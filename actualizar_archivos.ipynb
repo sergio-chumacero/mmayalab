{
 "cells": [
  {
   "cell_type": "markdown",
   "metadata": {},
   "source": [
    "Clickea el siguiente link para actualizar los archivos y tener las versiones más recientes de las aplicaciones:\n",
    "\n",
    "# [Actualizar Archivos](https://mmayalab.ml/hub/user-redirect/git-pull?repo=https%3A%2F%2Fgithub.com%2Fsergio-chumacero%2Fmmayalab&app=notebook)"
   ]
  }
 ],
 "metadata": {
  "kernelspec": {
   "display_name": "Python 3",
   "language": "python",
   "name": "python3"
  },
  "language_info": {
   "codemirror_mode": {
    "name": "ipython",
    "version": 3
   },
   "file_extension": ".py",
   "mimetype": "text/x-python",
   "name": "python",
   "nbconvert_exporter": "python",
   "pygments_lexer": "ipython3",
   "version": "3.6.5"
  }
 },
 "nbformat": 4,
 "nbformat_minor": 2
}
