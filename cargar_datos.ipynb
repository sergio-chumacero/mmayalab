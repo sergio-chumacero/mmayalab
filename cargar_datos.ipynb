{
 "cells": [
  {
   "cell_type": "code",
   "execution_count": 1,
   "metadata": {},
   "outputs": [],
   "source": [
    "import os\n",
    "import shutil\n",
    "import ipywidgets as widgets"
   ]
  },
  {
   "cell_type": "code",
   "execution_count": 14,
   "metadata": {},
   "outputs": [
    {
     "data": {
      "application/vnd.jupyter.widget-view+json": {
       "model_id": "9430906b3c464ba3a0fc191e736b53e9",
       "version_major": 2,
       "version_minor": 0
      },
      "text/plain": [
       "VBox(children=(Button(button_style='success', description='Cargar Datos', style=ButtonStyle(), tooltip='Copiar…"
      ]
     },
     "metadata": {},
     "output_type": "display_data"
    }
   ],
   "source": [
    "btn = widgets.Button(\n",
    "    description='Cargar Datos',\n",
    "    disabled=False,\n",
    "    button_style='success', # 'success', 'info', 'warning', 'danger' or ''\n",
    "    tooltip='Copiar los datos a mi directorio principal.',\n",
    "#     icon='check'\n",
    ")\n",
    "\n",
    "txt = widgets.HTML(\n",
    "    value=\"Clickea el botón de arriba para cargar los datos del servidor a tu directorio principal.\",\n",
    ")\n",
    "\n",
    "def on_button_clicked(b):\n",
    "    if not 'data' in os.listdir(os.getcwd()):\n",
    "        user = os.environ['USER']\n",
    "        src = os.path.join('/', 'srv', 'data')\n",
    "        dst = os.path.join('/', 'home', user, 'data')\n",
    "        shutil.copytree(src,dst)\n",
    "        txt.value = 'Datos copiados a tu directorio principal en la carpeta \"data\".'\n",
    "    else:\n",
    "        txt.value = 'La carpeta \"data\" ya se encuentra en tu directorio principal. Si esta no contiene los datos deseados bórrala e intenta de nuevo.'\n",
    "\n",
    "    print(msg)\n",
    "    \n",
    "btn.on_click(on_button_clicked)\n",
    "widgets.VBox([btn, txt])"
   ]
  }
 ],
 "metadata": {
  "kernelspec": {
   "display_name": "Python 3",
   "language": "python",
   "name": "python3"
  },
  "language_info": {
   "codemirror_mode": {
    "name": "ipython",
    "version": 3
   },
   "file_extension": ".py",
   "mimetype": "text/x-python",
   "name": "python",
   "nbconvert_exporter": "python",
   "pygments_lexer": "ipython3",
   "version": "3.6.5"
  }
 },
 "nbformat": 4,
 "nbformat_minor": 2
}
