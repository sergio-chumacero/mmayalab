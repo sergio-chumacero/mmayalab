{
 "cells": [
  {
   "cell_type": "markdown",
   "metadata": {
    "slideshow": {
     "slide_type": "slide"
    }
   },
   "source": [
    "**Nodos de Cuenca y SATD en las cuencas Azero y Guadalquivir - Tecnologías Base para su Implementación y Acoplo al Sistema de Información del MMAyA**\n",
    " \n",
    "Resultados de una Consultoría con GIZ-PROCUENCA\n",
    "\n",
    "*Sergio Chumacero Figueroa*\n",
    " \n",
    "<div align=\"center\"><img src=\"./img/collage.png\" width=500></div>"
   ]
  },
  {
   "cell_type": "markdown",
   "metadata": {
    "slideshow": {
     "slide_type": "slide"
    }
   },
   "source": [
    "Uno de los objetivos del programa PROCUENCA:\n",
    "\n",
    "\"Establecer procesos de gestión de la Información en torno a la temática hídrico-ambiental en las cuencas estratégicas que interviene (Azero y Guadalquivir)\""
   ]
  },
  {
   "cell_type": "markdown",
   "metadata": {
    "slideshow": {
     "slide_type": "subslide"
    }
   },
   "source": [
    "Objetivos de la consultoría:\n",
    "* Describir los sistemas de información hídrico-ambiental del MMAyA relacionados al SATD y Nodos de Cuenca.\n",
    "* Proponer una estratégia para la implementación de los Nodos de Cuenca y SATD a en las Cuencas Estratégicas Azero y Guadalquivir, desde el punto de vista de manejo de datos. "
   ]
  },
  {
   "cell_type": "markdown",
   "metadata": {
    "slideshow": {
     "slide_type": "subslide"
    }
   },
   "source": [
    "**¿Qué entendemos por \"Nodo de Cuenca\"?**\n",
    "\n",
    "Es el punto de Acceso de los distintos actores de la cuenca al sistema de información del MMAyA.\n",
    "\n",
    "Incluye el subconjunto de datos del sistema concernientes a las funciones de los actores de la cuenca.   \n",
    "\n",
    "<div align=\"center\"><img src=\"./img/nodos_cuenca.png\"/></div>"
   ]
  },
  {
   "cell_type": "markdown",
   "metadata": {
    "slideshow": {
     "slide_type": "subslide"
    }
   },
   "source": [
    "**Qué entendemos por SATD (Sistema de Apoyo a la Toma de Decisiones)?**\n",
    "\n",
    "Es un sistema capaz de hacer uso de los datos de cuenca y ofrecer herramientas automatizadas de análisis y predicción que sirvan de apoyo en tareas de gestión de cuenca.\n",
    "\n",
    "<div align=\"center\"><img src=\"./img/satd.png\"/></div>"
   ]
  },
  {
   "cell_type": "markdown",
   "metadata": {
    "slideshow": {
     "slide_type": "subslide"
    }
   },
   "source": [
    "**Datos del MMAyA Relacionados al SATD**\n",
    "\n",
    "**Demanda mínima**: \n",
    "* Balance Hídrico Superficial (VIBH)\n",
    "* Aguas Subterráneas (SIASBO)\n",
    "* Proyectos (Riego, AP)\n",
    "\n",
    "**Datos externos:** Información meteorológica (SENAHMI)\n",
    "\n",
    "**También Relevante:** Cálidad de Agua, Riego, Riesgos"
   ]
  },
  {
   "cell_type": "markdown",
   "metadata": {
    "slideshow": {
     "slide_type": "slide"
    }
   },
   "source": [
    "**Trabajo Previo [1]**\n",
    "\n",
    "*Análisis del Estado del Software y Hardware de Sistemas de Información del Sector de Medio Ambiente y Agua, para la Consolidación de un Sistema Integrado de Información. (21.09.2017 - BISIT S.R.L.)*\n",
    "    \n",
    "Recomendaciones:\n",
    "* Ciencia de Datos (Aprendizaje Automatizado)\n",
    "* Centralización de Infraestructura (SIARH)"
   ]
  },
  {
   "cell_type": "markdown",
   "metadata": {
    "slideshow": {
     "slide_type": "subslide"
    }
   },
   "source": [
    "**Trabajo Previo [2]**\n",
    "\n",
    "*Implementación de la Página Web y Análisis e Ingeniería a Diseño Final del Sistema de Información Geográfico SISGE-KATARI de la Cuenca Katari y Lago Menor del Titicaca. (Southern STH S.R.L)*\n",
    "\n",
    "\n",
    "Plano del SISGE-KATARI con herramientas del campo de ingeniería de software. "
   ]
  },
  {
   "cell_type": "markdown",
   "metadata": {
    "slideshow": {
     "slide_type": "subslide"
    }
   },
   "source": [
    "**Acerca del SIARH**\n",
    "\n",
    "* Actualmente en desarrollo, el SIARH apunta a ser el sistema central del MMAyA.\n",
    "\n",
    "* Los distintos sistemas del MMAyA pasarían a ser \"Módulos\" del SIARH. \n",
    "\n",
    "* Centralización de Infraestructura."
   ]
  },
  {
   "cell_type": "markdown",
   "metadata": {
    "slideshow": {
     "slide_type": "subslide"
    }
   },
   "source": [
    "**Dificultades actuales para el Desarrollo de Nodos y SATD**\n",
    "\n",
    "* Acceso a los datos de los módulos. \n",
    "\n",
    "* Limitaciones de herramientas e infraestructura.\n",
    "\n",
    "* Dependencias entre equpios de desarrollo."
   ]
  },
  {
   "cell_type": "markdown",
   "metadata": {
    "slideshow": {
     "slide_type": "subslide"
    }
   },
   "source": [
    "**Acerca de la Consultoría Actual**\n",
    "\n",
    "Me concentré en las necesidades en el campo de manejo de datos para la implementación de Nodos de Cuenca y SATD.\n",
    "\n",
    "Recomendaciones:\n",
    "* Sistemas de Intercambio de Datos Automatizados (Nodos y SATD)\n",
    "* Entornos de Trabajo para Ciencia de Datos (SATD)"
   ]
  },
  {
   "cell_type": "markdown",
   "metadata": {
    "slideshow": {
     "slide_type": "slide"
    }
   },
   "source": [
    "## Propuesta de Implementación Nodos y SATD: Conceptos Básicos "
   ]
  },
  {
   "cell_type": "markdown",
   "metadata": {
    "slideshow": {
     "slide_type": "subslide"
    }
   },
   "source": [
    "Modelo Básico de Sistemas de Intercambio Automatizado de Datos (Conexión Simple)\n",
    "\n",
    "<div align=\"center\"><img src=\"./img/api_basic_full.jpg\"/></div>"
   ]
  },
  {
   "cell_type": "markdown",
   "metadata": {
    "slideshow": {
     "slide_type": "subslide"
    }
   },
   "source": [
    "Extensión a un sistema completo\n",
    "\n",
    "<div align=\"center\"><img src=\"./img/dream.png\"/></div>"
   ]
  },
  {
   "cell_type": "markdown",
   "metadata": {
    "slideshow": {
     "slide_type": "subslide"
    }
   },
   "source": [
    "**Ventajas:**\n",
    "\n",
    "* Interoperabilidad entre Sistemas\n",
    "* Aislamiento de Tecnologías (Reducción del grado de Coodependencia)\n",
    "* Reuso de Datos\n",
    "* Consistencia de Datos"
   ]
  },
  {
   "cell_type": "markdown",
   "metadata": {
    "slideshow": {
     "slide_type": "subslide"
    }
   },
   "source": [
    "**Desafíos:**\n",
    "\n",
    "* Complejidad de acceso -> Protocolos API (OpenAPI)\n",
    "* Abuso de Consumo -> Sistemas de Autorización y Control de Acceso\n",
    "* Compatibilidad con sistemas existentes -> Puntos de Ingreso\n",
    "* Demanda del Servicio Variable -> Extención/Reducción dinámica de Capacidad\n",
    "* Consistencia del Servicio <-> Consistencia de la Infraestructura"
   ]
  },
  {
   "cell_type": "markdown",
   "metadata": {
    "slideshow": {
     "slide_type": "subslide"
    }
   },
   "source": [
    "## Propuesta para Nodos de Cuenca\n",
    "\n",
    "\n",
    "<div align=\"center\"><img src=\"./img/propuesta_nodos.png\"></div>"
   ]
  },
  {
   "cell_type": "markdown",
   "metadata": {
    "slideshow": {
     "slide_type": "subslide"
    }
   },
   "source": [
    "## Extensión Natural a SATD\n",
    "\n",
    "\n",
    "<div align=\"center\"><img src=\"./img/mmaya_api2.png\"></div>"
   ]
  },
  {
   "cell_type": "markdown",
   "metadata": {
    "slideshow": {
     "slide_type": "subslide"
    }
   },
   "source": [
    "Otros aspectos relacionados:\n",
    "* Requerimientos de Infraestructura: Relación API <-> Computo Cloud\n",
    "* API y Servicios de Computo\n",
    "* Tipos de API (REST, GraphQL)\n",
    "* Tipo de Datos (estructurados/no-estructurados, archivos grandes)"
   ]
  },
  {
   "cell_type": "markdown",
   "metadata": {
    "slideshow": {
     "slide_type": "slide"
    }
   },
   "source": [
    "## Propuesta: Entornos de Trabajo para Ciencia de Datos (SATD)\n",
    "\n",
    "Paradigma Aplicación Web vs. Entorno de Trabajo web:\n",
    "* Aplicación Web: Gran cantidad de usuarios, poco poder computacional. (Estático/Semi-estático)\n",
    "* Entorno de Trabajo web: Pocos usuarios (técnicos), gran poder computacional. (Dinámico)"
   ]
  }
 ],
 "metadata": {
  "celltoolbar": "Slideshow",
  "kernelspec": {
   "display_name": "Python 3",
   "language": "python",
   "name": "python3"
  },
  "language_info": {
   "codemirror_mode": {
    "name": "ipython",
    "version": 3
   },
   "file_extension": ".py",
   "mimetype": "text/x-python",
   "name": "python",
   "nbconvert_exporter": "python",
   "pygments_lexer": "ipython3",
   "version": "3.6.5"
  }
 },
 "nbformat": 4,
 "nbformat_minor": 2
}
