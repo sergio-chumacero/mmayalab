{
 "cells": [
  {
   "cell_type": "markdown",
   "metadata": {
    "slideshow": {
     "slide_type": "slide"
    }
   },
   "source": [
    "# MMAyA - Sistemas de Información con miras al SATD y Nodos en cuencas estratégicas\n",
    "\n",
    "\n",
    "Sergio Chumacero\n",
    "\n",
    "<div align=\"center\"><img src=\"./img/collage.png\" width=600></div>"
   ]
  },
  {
   "cell_type": "markdown",
   "metadata": {
    "slideshow": {
     "slide_type": "slide"
    }
   },
   "source": [
    "### Activa tu entorno de trabajo \"[mmayalab.ml](https://mayyalab.ml)\" y sincroniza sus aplicaciones con el siguiente link\n",
    "\n",
    "Link Corto: https://goo.gl/aZyCmC\n",
    "\n",
    "![](./img/mmaya_short.png)\n",
    "\n",
    "Usuarios: liz, neftali, gustavo, jimy, zenobia. \n",
    "\n",
    "La primera contraseña ingresada será asociada con la cuenta"
   ]
  },
  {
   "cell_type": "markdown",
   "metadata": {
    "slideshow": {
     "slide_type": "subslide"
    }
   },
   "source": [
    "#### Sigue la presentación de manera interactiva\n",
    "\n",
    "1. Abre el archivo\n",
    "```\n",
    "presentacion.ipynb\n",
    "```\n",
    "2. Activa el modo presentación presionando \"Alt+r\" o haciendo click en el siguiente botón:\n",
    "![](./img/follow_pres.png)"
   ]
  },
  {
   "cell_type": "markdown",
   "metadata": {
    "slideshow": {
     "slide_type": "subslide"
    }
   },
   "source": [
    "## Acceder al entorno de trabajo avanzado\n",
    "\n",
    "### En la url de la página principal, cambia 'tree' por 'lab':\n",
    "\n",
    "<div align=\"center\">\n",
    "    <img src=\"./img/access_lab.jpg\"/>\n",
    "</div>"
   ]
  },
  {
   "cell_type": "markdown",
   "metadata": {
    "slideshow": {
     "slide_type": "slide"
    }
   },
   "source": [
    "### Uno de los objetivos PROCUENCA: Establecer Procesos de Gestión de la Información en torno a la temática Hídrico-Ambiental. \n",
    "\n",
    "Objetivos Consultoría:\n",
    "* Caracterizar el estado actual de los sistemas de información del MMAyA en temas de gestión hídrica, relacionados al SATD y Nodos de cuenca\n",
    "* Proponer una estratégia y tecnologías en el área de manejo de datos con el fin de implementar y operativizar el SATD y Nodos de Cuenca en Cuencas Estratégicas"
   ]
  },
  {
   "cell_type": "markdown",
   "metadata": {
    "slideshow": {
     "slide_type": "slide"
    }
   },
   "source": [
    "## Trabajo Previo:\n",
    "\n",
    "* Análisis del Estado del Software y Hardware de Sistemas de Información del Sector de Medio Ambiente y Agua, para la Consolidación de un Sistema Integrado de Información. (21.09.2017 - BISIT S.R.L.)\n",
    "    * Se concentró en: infraestructura, normativas\n",
    "    * Recomendaciones:\n",
    "        * Ciencia de Datos (Aprendizaje Automatizado)\n",
    "        * Centralización de Infraestructura "
   ]
  },
  {
   "cell_type": "markdown",
   "metadata": {
    "slideshow": {
     "slide_type": "subslide"
    }
   },
   "source": [
    "## Trabajo Previo:\n",
    "\n",
    "* Implementación de la Página Web y Análisis e Ingeniería a Diseño Final del Sistema de Información Geográfico SISGE-KATARI de la Cuenca Katari y Lago Menor del Titicaca. (Southern STH S.R.L)\n",
    "    * Punto de vista: Ingeniería de software"
   ]
  },
  {
   "cell_type": "markdown",
   "metadata": {
    "slideshow": {
     "slide_type": "subslide"
    }
   },
   "source": [
    "## Trabajo Actual:\n",
    "\n",
    "* Análisis de los Sistemas de Información Sectorial para la Gestión Hídrico Ambiental y Propuestas para su Implementación y Operativización en Cuencas Estratégicas\n",
    "    * Me concentré en: Manejo de datos y tecnologías relacionadas\n",
    "    * Recomendaciones:\n",
    "        * Sistemas de acceso programático de datos\n",
    "        * Computo Cloud hacia Ciencia de Datos"
   ]
  },
  {
   "cell_type": "markdown",
   "metadata": {
    "slideshow": {
     "slide_type": "slide"
    }
   },
   "source": [
    "## Demanda Mínima de Datos para la Operativización (Fase de Prueba)\n",
    "\n",
    "* Balance Hídrico Superficial: [VIBH](http://vibh.mmaya.gob.bo)\n",
    "* Aguas Subterráneas: SIASBO\n",
    "* Proyectos (Riego, AP): SIRH\n",
    "* Información meteorológica: SENAHMI\n",
    "\n",
    "### + datos especializados a pedido"
   ]
  },
  {
   "cell_type": "markdown",
   "metadata": {
    "slideshow": {
     "slide_type": "subslide"
    }
   },
   "source": [
    "## También Relevante:\n",
    "\n",
    "* Cálidad de agua: SIMCA\n",
    "* Riego (Reuso & Sistemas de Riego): SIRH\n",
    "* Riesgos: SENAHMI\n",
    "\n",
    "## Temas Transversales: \n",
    "* Cálidad y Accesibilidad de Datos\n",
    "* Entorno de Trabajo"
   ]
  },
  {
   "cell_type": "markdown",
   "metadata": {
    "slideshow": {
     "slide_type": "slide"
    }
   },
   "source": [
    "Un Vistazo a los Datos Recopilados (Indices)\n",
    "\n",
    "![](./img/info.png)"
   ]
  },
  {
   "cell_type": "markdown",
   "metadata": {
    "slideshow": {
     "slide_type": "subslide"
    }
   },
   "source": [
    "Un Vistazo a los Datos Recopilados (Geo App)\n",
    "![](./img/geo_app.png)"
   ]
  },
  {
   "cell_type": "markdown",
   "metadata": {
    "slideshow": {
     "slide_type": "slide"
    }
   },
   "source": [
    "## Accesibilidad de Datos: Sistemas de Intercambio Automatizado de Datos (Datos como Servicio)\n",
    "\n",
    "Modelo Básico\n",
    "\n",
    "<div align=\"center\"><img src=\"./img/api_basic_full.jpg\"/></div>"
   ]
  },
  {
   "cell_type": "markdown",
   "metadata": {
    "slideshow": {
     "slide_type": "subslide"
    }
   },
   "source": [
    "## Accesibilidad de Datos: Sistemas de Intercambio Automatizado de Datos (Datos como Servicio)\n",
    "\n",
    "Simple idea, grandes consecuencias\n",
    "\n",
    "<div align=\"center\"><img src=\"./img/dream.png\"/></div>"
   ]
  },
  {
   "cell_type": "markdown",
   "metadata": {
    "slideshow": {
     "slide_type": "subslide"
    }
   },
   "source": [
    "## Accesibilidad de Datos: Sistemas de Intercambio Automatizado de Datos (Datos como Servicio)\n",
    "\n",
    "Solución Mínima MMAyA\n",
    "\n",
    "<div align=\"center\"><img src=\"./img/mmaya_api.png\"></div>"
   ]
  },
  {
   "cell_type": "markdown",
   "metadata": {
    "slideshow": {
     "slide_type": "subslide"
    }
   },
   "source": [
    "## Accesibilidad de Datos: Sistemas de Intercambio Automatizado de Datos (Datos como Servicio)\n",
    "\n",
    "Solución Extendida MMAyA\n",
    "\n",
    "<div align=\"center\"><img src=\"./img/mmaya_api2.png\"></div>"
   ]
  },
  {
   "cell_type": "markdown",
   "metadata": {
    "slideshow": {
     "slide_type": "subslide"
    }
   },
   "source": [
    "## Accesibilidad de Datos: Sistemas de Intercambio Automatizado de Datos (Datos como Servicio)\n",
    "\n",
    "Propuesta de Estratégia: (Extensión API para solución básica)\n",
    "\n",
    "<div align=\"center\"><img src=\"./img/extension_api.png\"></div>"
   ]
  },
  {
   "cell_type": "markdown",
   "metadata": {
    "slideshow": {
     "slide_type": "subslide"
    }
   },
   "source": [
    "Ventajas:\n",
    "* Interoperabilidad automatizada entre sistemas tanto existentes como emergentes\n",
    "* Aislamiento de Tecnologías (Reducción del grado de Coodependencia)\n",
    "* Reuso de Datos\n",
    "* Consistencia de Datos"
   ]
  },
  {
   "cell_type": "markdown",
   "metadata": {
    "slideshow": {
     "slide_type": "subslide"
    }
   },
   "source": [
    "Desafíos y Propuestas de Solución:\n",
    "* Complejidad de acceso -> Protocolos API (OpenAPI)\n",
    "* Abuso de Consumo -> Sistemas de Autorización y Control de Acceso\n",
    "* Compatibilidad con sistemas existentes -> Puntos de Ingreso\n",
    "* Demanda del Servicio Variable -> Extención/Reducción de Capacidad Dinámica\n",
    "* Consistencia del Servicio <-> Consistencia de la Infraestructura"
   ]
  },
  {
   "cell_type": "markdown",
   "metadata": {
    "slideshow": {
     "slide_type": "subslide"
    }
   },
   "source": [
    "Otros aspectos relacionados:\n",
    "* Requerimientos de Infraestructura: Relación API <-> Computo Cloud\n",
    "* API y Servicios de Computo\n",
    "* Tipos de API (REST, GraphQL)\n",
    "* Tipo de Datos (estructurados/no-estructurados, archivos grandes)"
   ]
  },
  {
   "cell_type": "markdown",
   "metadata": {
    "slideshow": {
     "slide_type": "slide"
    }
   },
   "source": [
    "### Opciones de Infraestructura: Computo Cloud\n",
    "\n",
    "Centralización de Infraestructura, llevada al extremo.\n",
    "\n",
    "* Google (GCP)\n",
    "* Amazon (AWS)\n",
    "* Microsoft (Azure)\n",
    "* IBM (Watson)\n",
    "* Digital Ocean\n",
    "* ..."
   ]
  },
  {
   "cell_type": "markdown",
   "metadata": {
    "slideshow": {
     "slide_type": "subslide"
    }
   },
   "source": [
    "#### Manejo de Servidores Físicos\n",
    "\n",
    "Premisa, Energía, Internet, Seguridad Física, Enfriamiento, Ventilación, Hardware\n",
    "\n",
    "Sistema Operativo, Lenguajes de Programación, Paquetes, Dependencias, Bases de Datos, Puertos IP, Routers, Load Balancers, Firewall, Encriptado accesos \n",
    "\n",
    "* Puesta en Funcionamiento: Transporte, Instalación\n",
    "* Servicios 24/7: Cortes\n",
    "* Incompatibilidades y Dependencias\n",
    "* Mantenimiento: Actualizaciones, Monitoreo, Errores"
   ]
  },
  {
   "cell_type": "markdown",
   "metadata": {
    "slideshow": {
     "slide_type": "subslide"
    }
   },
   "source": [
    "Sin mencionar mejoras en Hardware, Gestión, Planificación, Administración ...\n",
    "\n",
    "Todos estos aspectos tienen un costo, tanto inicial cómo regular a largo plazo.\n",
    "\n",
    "El costo por uso se incrementa mientras más pequeña sea la premisa -> Centralización de Hardware"
   ]
  },
  {
   "cell_type": "markdown",
   "metadata": {
    "slideshow": {
     "slide_type": "subslide"
    }
   },
   "source": [
    "#### Manejo de Servicios Cloud\n",
    "\n",
    "Especificas:\n",
    "* Requerimientos de Máquina (Tipo, RAM, Memoria)\n",
    "* Imágen de Disco (Sistema Operativo + Características de Sistema)\n",
    "* Entorno de aplicación (Contenedor)\n",
    "\n",
    "Y en unos minutos, estas listo para producción.\n",
    "\n",
    "Interacción por medio de APIs."
   ]
  },
  {
   "cell_type": "markdown",
   "metadata": {
    "slideshow": {
     "slide_type": "subslide"
    }
   },
   "source": [
    "#### Recomendación: Sistema Mixto y Migración Paulatina\n",
    "\n",
    "* Mantener los sistemas en premisa y continuar con el proceso de optimización.\n",
    "* Implementar sistemas de intercambio automatizado de datos haciendo uso de tecnologías cloud.\n",
    "* Implementar aplicaciones y entornos de trabajo que hagan uso de los nuevos sistemas. \n"
   ]
  },
  {
   "cell_type": "markdown",
   "metadata": {
    "slideshow": {
     "slide_type": "slide"
    }
   },
   "source": [
    "## Entornos de Trabajo Cloud: Más que una Aplicación Web\n",
    "\n",
    "Paradigma Aplicación Web vs. Entorno Cloud:\n",
    "* Aplicación Web: Gran cantidad de usuarios, poco poder computacional. (Estático/Semi-estático)\n",
    "* Entorno de Trabajo Cloud: Pocos usuarios (técnicos), gran poder computacional. (Dinámico)"
   ]
  },
  {
   "cell_type": "markdown",
   "metadata": {
    "slideshow": {
     "slide_type": "subslide"
    }
   },
   "source": [
    "## Entornos de Trabajo Cloud: Más que una Aplicación Web\n",
    "\n",
    "Idea: Ofrecer un entorno de trabajo flexible y poderoso a los técnicos, desde el cual tengan acceso a los datos que necesitan y puedan trabajar con código (+ librerías) o herramientas gráficas generadas a pedido y en corto tiempo (o generar sus propias)."
   ]
  },
  {
   "attachments": {},
   "cell_type": "markdown",
   "metadata": {
    "slideshow": {
     "slide_type": "subslide"
    }
   },
   "source": [
    "¿Cómo funciona?\n",
    "\n",
    "<div align=\"center\"><img src=\"./img/entorno_cloud.png\"/></div>"
   ]
  }
 ],
 "metadata": {
  "celltoolbar": "Slideshow",
  "kernelspec": {
   "display_name": "Python 3",
   "language": "python",
   "name": "python3"
  },
  "language_info": {
   "codemirror_mode": {
    "name": "ipython",
    "version": 3
   },
   "file_extension": ".py",
   "mimetype": "text/x-python",
   "name": "python",
   "nbconvert_exporter": "python",
   "pygments_lexer": "ipython3",
   "version": "3.6.5"
  }
 },
 "nbformat": 4,
 "nbformat_minor": 2
}
