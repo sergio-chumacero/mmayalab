{
 "cells": [
  {
   "cell_type": "markdown",
   "metadata": {
    "slideshow": {
     "slide_type": "slide"
    }
   },
   "source": [
    "**Nodos de Cuenca y SATD en las cuencas Azero y Guadalquivir - Tecnologías Base para su Implementación y Acoplo al Sistema de Información del MMAyA**\n",
    " \n",
    "Resultados de una Consultoría con GIZ-PROCUENCA\n",
    "\n",
    "*Sergio Chumacero Figueroa*\n",
    " \n",
    "<div align=\"center\"><img src=\"./img/collage.png\" width=500></div>"
   ]
  },
  {
   "cell_type": "markdown",
   "metadata": {
    "slideshow": {
     "slide_type": "slide"
    }
   },
   "source": [
    "Uno de los objetivos del programa PROCUENCA:\n",
    "\n",
    "\"Establecer procesos de gestión de la Información en torno a la temática hídrico-ambiental en las cuencas estratégicas que interviene (Azero y Guadalquivir)\""
   ]
  },
  {
   "cell_type": "markdown",
   "metadata": {
    "slideshow": {
     "slide_type": "subslide"
    }
   },
   "source": [
    "Objetivos de la consultoría:\n",
    "* Describir los sistemas de información hídrico-ambiental del MMAyA relacionados al SATD y Nodos de Cuenca.\n",
    "* Proponer una estratégia para la implementación de los Nodos de Cuenca y SATD a en las Cuencas Estratégicas Azero y Guadalquivir, desde el punto de vista de manejo de datos. "
   ]
  },
  {
   "cell_type": "markdown",
   "metadata": {
    "slideshow": {
     "slide_type": "subslide"
    }
   },
   "source": [
    "**Qué entendemos por \"Nodo de Cuenca\"?**\n",
    "\n",
    "Es el punto de Acceso de los distintos actores de la cuenca al sistema de información del MMAyA.\n",
    "\n",
    "Incluye el subconjunto de datos del sistema concernientes a las funciones de los actores de la cuenca.   \n",
    "\n",
    "<div align=\"center\"><img src=\"./img/nodos_cuenca.png\"/></div>"
   ]
  },
  {
   "cell_type": "markdown",
   "metadata": {
    "slideshow": {
     "slide_type": "subslide"
    }
   },
   "source": [
    "**Qué entendemos por SATD (Sistema de Apoyo a la Toma de Decisiones)?**\n",
    "\n",
    "Es un sistema capaz de hacer uso de los datos de cuenca y ofrecer herramientas automatizadas de análisis y predicción que sirvan de apoyo en tareas de gestión de cuenca.\n",
    "\n",
    "<div align=\"center\"><img src=\"./img/satd.png\"/></div>"
   ]
  },
  {
   "cell_type": "markdown",
   "metadata": {
    "slideshow": {
     "slide_type": "subslide"
    }
   },
   "source": [
    "**Acerca del SIARH**\n",
    "\n",
    "Actualmente en desarrollo, el SIARH apunta a ser el sistema central del MMAyA.\n",
    "\n",
    "Los distintos sistemas del MMAyA pasarían a ser \"Módulos\" del SIARH. \n",
    "\n",
    "La infraestructura de los sistemas sería centralizada."
   ]
  },
  {
   "cell_type": "markdown",
   "metadata": {
    "slideshow": {
     "slide_type": "slide"
    }
   },
   "source": [
    "**Trabajo Previo [1]**\n",
    "\n",
    "*Análisis del Estado del Software y Hardware de Sistemas de Información del Sector de Medio Ambiente y Agua, para la Consolidación de un Sistema Integrado de Información. (21.09.2017 - BISIT S.R.L.)*\n",
    "    \n",
    "Recomendaciones:\n",
    "* Ciencia de Datos (Aprendizaje Automatizado)\n",
    "* Centralización de Infraestructura (SIARH)"
   ]
  },
  {
   "cell_type": "markdown",
   "metadata": {
    "slideshow": {
     "slide_type": "subslide"
    }
   },
   "source": [
    "**Trabajo Previo [2]**\n",
    "\n",
    "*Implementación de la Página Web y Análisis e Ingeniería a Diseño Final del Sistema de Información Geográfico SISGE-KATARI de la Cuenca Katari y Lago Menor del Titicaca. (Southern STH S.R.L)*\n",
    "\n",
    "\n",
    "Plano del SISGE-KATARI con herramientas del campo de ingeniería de software. "
   ]
  },
  {
   "cell_type": "markdown",
   "metadata": {
    "slideshow": {
     "slide_type": "subslide"
    }
   },
   "source": [
    "**Acerca de la Consultoría Actual**\n",
    "\n",
    "*Análisis de los Sistemas de Información Sectorial para la Gestión Hídrico Ambiental y Propuestas para su Implementación y Operativización en Cuencas Estratégicas*\n",
    "\n",
    "Me concentré en las necesidades en el campo de manejo de datos para la implementación de Nodos de Cuenca y SATD.\n",
    "\n",
    "Recomendaciones:\n",
    "* Sistemas de Intercambio de Datos Automatizados\n",
    "* Computo Cloud hacia Ciencia de Datos"
   ]
  },
  {
   "cell_type": "markdown",
   "metadata": {
    "slideshow": {
     "slide_type": "subslide"
    }
   },
   "source": [
    "**Datos del MMAyA Relacionados al SATD**\n",
    "\n",
    "**Demanda mínima**: \n",
    "* Balance Hídrico Superficial (VIBH)\n",
    "* Aguas Subterráneas (SIASBO)\n",
    "* Proyectos (Riego, AP)\n",
    "\n",
    "**Datos externos:** Información meteorológica (SENAHMI)\n",
    "\n",
    "**También Relevante:** Cálidad de agua, Riego, Riesgos"
   ]
  },
  {
   "cell_type": "markdown",
   "metadata": {
    "slideshow": {
     "slide_type": "slide"
    }
   },
   "source": [
    "**Tecnologías Clave para Propuestas**\n",
    "\n",
    "Nodos y SATD:\n",
    "\n",
    "1. Sistemas de Intercambio Automatizado de Datos\n",
    "2. Opciones de Infraestructura: Computo Cloud\n",
    "\n",
    "SATD:\n",
    "\n",
    "3. Entornos de Trabajo para Ciencia de Datos"
   ]
  },
  {
   "cell_type": "markdown",
   "metadata": {
    "slideshow": {
     "slide_type": "slide"
    }
   },
   "source": [
    "## Accesibilidad de Datos: Sistemas de Intercambio Automatizado de Datos (Datos como Servicio)\n",
    "\n",
    "Modelo Básico\n",
    "\n",
    "<div align=\"center\"><img src=\"./img/api_basic_full.jpg\"/></div>"
   ]
  },
  {
   "cell_type": "markdown",
   "metadata": {
    "slideshow": {
     "slide_type": "subslide"
    }
   },
   "source": [
    "## Accesibilidad de Datos: Sistemas de Intercambio Automatizado de Datos (Datos como Servicio)\n",
    "\n",
    "Simple idea, grandes consecuencias\n",
    "\n",
    "<div align=\"center\"><img src=\"./img/dream.png\"/></div>"
   ]
  },
  {
   "cell_type": "markdown",
   "metadata": {
    "slideshow": {
     "slide_type": "subslide"
    }
   },
   "source": [
    "## Accesibilidad de Datos: Sistemas de Intercambio Automatizado de Datos (Datos como Servicio)\n",
    "\n",
    "Solución Mínima MMAyA\n",
    "\n",
    "<div align=\"center\"><img src=\"./img/mmaya_api.png\"></div>"
   ]
  },
  {
   "cell_type": "markdown",
   "metadata": {
    "slideshow": {
     "slide_type": "subslide"
    }
   },
   "source": [
    "## Accesibilidad de Datos: Sistemas de Intercambio Automatizado de Datos (Datos como Servicio)\n",
    "\n",
    "Solución Extendida MMAyA\n",
    "\n",
    "<div align=\"center\"><img src=\"./img/mmaya_api2.png\"></div>"
   ]
  },
  {
   "cell_type": "markdown",
   "metadata": {
    "slideshow": {
     "slide_type": "subslide"
    }
   },
   "source": [
    "## Accesibilidad de Datos: Sistemas de Intercambio Automatizado de Datos (Datos como Servicio)\n",
    "\n",
    "Propuesta de Estratégia: (Extensión API para solución básica)\n",
    "\n",
    "<div align=\"center\"><img src=\"./img/extension_api.png\"></div>"
   ]
  },
  {
   "cell_type": "markdown",
   "metadata": {
    "slideshow": {
     "slide_type": "subslide"
    }
   },
   "source": [
    "Ventajas:\n",
    "* Interoperabilidad automatizada entre sistemas tanto existentes como emergentes\n",
    "* Aislamiento de Tecnologías (Reducción del grado de Coodependencia)\n",
    "* Reuso de Datos\n",
    "* Consistencia de Datos"
   ]
  },
  {
   "cell_type": "markdown",
   "metadata": {
    "slideshow": {
     "slide_type": "subslide"
    }
   },
   "source": [
    "Desafíos y Propuestas de Solución:\n",
    "* Complejidad de acceso -> Protocolos API (OpenAPI)\n",
    "* Abuso de Consumo -> Sistemas de Autorización y Control de Acceso\n",
    "* Compatibilidad con sistemas existentes -> Puntos de Ingreso\n",
    "* Demanda del Servicio Variable -> Extención/Reducción de Capacidad Dinámica\n",
    "* Consistencia del Servicio <-> Consistencia de la Infraestructura"
   ]
  },
  {
   "cell_type": "markdown",
   "metadata": {
    "slideshow": {
     "slide_type": "subslide"
    }
   },
   "source": [
    "Otros aspectos relacionados:\n",
    "* Requerimientos de Infraestructura: Relación API <-> Computo Cloud\n",
    "* API y Servicios de Computo\n",
    "* Tipos de API (REST, GraphQL)\n",
    "* Tipo de Datos (estructurados/no-estructurados, archivos grandes)"
   ]
  },
  {
   "cell_type": "markdown",
   "metadata": {
    "slideshow": {
     "slide_type": "slide"
    }
   },
   "source": [
    "### Opciones de Infraestructura: Computo Cloud\n",
    "\n",
    "Centralización de Infraestructura, llevada al extremo.\n",
    "\n",
    "* Google (GCP)\n",
    "* Amazon (AWS)\n",
    "* Microsoft (Azure)\n",
    "* IBM (Watson)\n",
    "* Digital Ocean\n",
    "* ..."
   ]
  },
  {
   "cell_type": "markdown",
   "metadata": {
    "slideshow": {
     "slide_type": "subslide"
    }
   },
   "source": [
    "#### Manejo de Servidores Físicos\n",
    "\n",
    "Premisa, Energía, Internet, Seguridad Física, Enfriamiento, Ventilación, Hardware\n",
    "\n",
    "Sistema Operativo, Lenguajes de Programación, Paquetes, Dependencias, Bases de Datos, Puertos IP, Routers, Load Balancers, Firewall, Encriptado accesos \n",
    "\n",
    "* Puesta en Funcionamiento: Transporte, Instalación\n",
    "* Servicios 24/7: Cortes\n",
    "* Incompatibilidades y Dependencias\n",
    "* Mantenimiento: Actualizaciones, Monitoreo, Errores"
   ]
  },
  {
   "cell_type": "markdown",
   "metadata": {
    "slideshow": {
     "slide_type": "subslide"
    }
   },
   "source": [
    "Sin mencionar mejoras en Hardware, Gestión, Planificación, Administración ...\n",
    "\n",
    "Todos estos aspectos tienen un costo, tanto inicial cómo regular a largo plazo.\n",
    "\n",
    "El costo por uso se incrementa mientras más pequeña sea la premisa -> Centralización de Hardware"
   ]
  },
  {
   "cell_type": "markdown",
   "metadata": {
    "slideshow": {
     "slide_type": "subslide"
    }
   },
   "source": [
    "#### Manejo de Servicios Cloud\n",
    "\n",
    "Especificas:\n",
    "* Requerimientos de Máquina (Tipo, RAM, Memoria)\n",
    "* Imágen de Disco (Sistema Operativo + Características de Sistema)\n",
    "* Entorno de aplicación (Contenedor)\n",
    "\n",
    "Y en unos minutos, estas listo para producción.\n",
    "\n",
    "Interacción por medio de APIs."
   ]
  },
  {
   "cell_type": "markdown",
   "metadata": {
    "slideshow": {
     "slide_type": "subslide"
    }
   },
   "source": [
    "#### Recomendación: Sistema Mixto y Migración Paulatina\n",
    "\n",
    "* Mantener los sistemas en premisa y continuar con el proceso de optimización.\n",
    "* Implementar sistemas de intercambio automatizado de datos haciendo uso de tecnologías cloud.\n",
    "* Implementar aplicaciones y entornos de trabajo que hagan uso de los nuevos sistemas. \n"
   ]
  },
  {
   "cell_type": "markdown",
   "metadata": {
    "slideshow": {
     "slide_type": "slide"
    }
   },
   "source": [
    "## Entornos de Trabajo Cloud\n",
    "\n",
    "Paradigma Aplicación Web vs. Entorno Cloud:\n",
    "* Aplicación Web: Gran cantidad de usuarios, poco poder computacional. (Estático/Semi-estático)\n",
    "* Entorno de Trabajo Cloud: Pocos usuarios (técnicos), gran poder computacional. (Dinámico)"
   ]
  },
  {
   "cell_type": "markdown",
   "metadata": {
    "slideshow": {
     "slide_type": "subslide"
    }
   },
   "source": [
    "## Entornos de Trabajo Cloud\n",
    "\n",
    "Idea: Ofrecer un entorno de trabajo flexible y poderoso a los técnicos, desde el cual tengan acceso a los datos que necesitan y puedan trabajar con código (+ librerías) o herramientas gráficas generadas a pedido y en corto tiempo (o generar sus propias)."
   ]
  },
  {
   "cell_type": "markdown",
   "metadata": {
    "slideshow": {
     "slide_type": "subslide"
    }
   },
   "source": [
    "¿Cómo funciona?\n",
    "\n",
    "<div align=\"center\"><img src=\"./img/entorno_cloud.png\"/></div>"
   ]
  }
 ],
 "metadata": {
  "celltoolbar": "Slideshow",
  "kernelspec": {
   "display_name": "Python 3",
   "language": "python",
   "name": "python3"
  },
  "language_info": {
   "codemirror_mode": {
    "name": "ipython",
    "version": 3
   },
   "file_extension": ".py",
   "mimetype": "text/x-python",
   "name": "python",
   "nbconvert_exporter": "python",
   "pygments_lexer": "ipython3",
   "version": "3.6.5"
  }
 },
 "nbformat": 4,
 "nbformat_minor": 2
}
